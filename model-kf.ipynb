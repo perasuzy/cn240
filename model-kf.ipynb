{
 "cells": [
  {
   "cell_type": "code",
   "execution_count": 1,
   "metadata": {},
   "outputs": [],
   "source": [
    "import pandas as pd\r\n",
    "import os\r\n",
    "import numpy as np\r\n",
    "from sklearn.utils import shuffle\r\n",
    "\r\n",
    "PATH = os.getcwd()\r\n",
    "PATH_condition = PATH+\"/data/condition\"\r\n",
    "PATH_control = PATH+\"/data/control\"\r\n",
    "\r\n",
    "filenames_condition = os.listdir(PATH_condition)\r\n",
    "value=[]\r\n",
    "y=[]\r\n",
    "\r\n",
    "# n = np.array(pd.read_csv(PATH_condition+\"/condition_1.csv\",usecols= ['activity']).values,dtype=\"float\")\r\n",
    "# print(type(n[0]))\r\n",
    "\r\n",
    "for i in filenames_condition:\r\n",
    "    if (\".csv\" in i):\r\n",
    "        n = np.concatenate(pd.read_csv(PATH_condition+\"/\"+i,usecols= ['activity'],dtype=np.float64,nrows=10000).values).ravel()\r\n",
    "        value.append(n)\r\n",
    "        y.append(1)\r\n",
    "# print(value[0])\r\n",
    "# value = np.array(value)\r\n",
    "# print(value.shape)\r\n",
    "\r\n",
    "filenames_control = os.listdir(PATH_control)\r\n",
    "# value2=[]\r\n",
    "for i in filenames_control:\r\n",
    "    if (\".csv\" in i):\r\n",
    "        n = np.concatenate(pd.read_csv(PATH_control+\"/\"+i,usecols= ['activity'],dtype=np.float64,nrows=10000).values).ravel()\r\n",
    "        value.append(n)\r\n",
    "        y.append(0)\r\n",
    "\r\n",
    "\r\n",
    "value, y = shuffle(value, y, random_state=42)\r\n",
    "y = np.array(y,dtype=np.float64)\r\n",
    "res = np.array(value,dtype=np.float64)\r\n"
   ]
  },
  {
   "cell_type": "code",
   "execution_count": 2,
   "metadata": {},
   "outputs": [
    {
     "name": "stdout",
     "output_type": "stream",
     "text": [
      "KFold(n_splits=5, random_state=None, shuffle=False)\n"
     ]
    }
   ],
   "source": [
    "from sklearn.model_selection import KFold\r\n",
    "from sklearn.linear_model import LinearRegression\r\n",
    "from sklearn.linear_model import LogisticRegression\r\n",
    "from sklearn.model_selection import train_test_split\r\n",
    "import matplotlib.pyplot as plt\r\n",
    "from sklearn import metrics\r\n",
    "from sklearn.metrics import confusion_matrix\r\n",
    "\r\n",
    "\r\n",
    "kf = KFold(n_splits=5)\r\n",
    "kf.get_n_splits(res)\r\n",
    "print(kf)"
   ]
  },
  {
   "cell_type": "code",
   "execution_count": 3,
   "metadata": {},
   "outputs": [
    {
     "name": "stdout",
     "output_type": "stream",
     "text": [
      "55\n",
      "55\n"
     ]
    }
   ],
   "source": [
    "print(len(y))\r\n",
    "print(len(res))"
   ]
  },
  {
   "cell_type": "code",
   "execution_count": 6,
   "metadata": {},
   "outputs": [
    {
     "name": "stdout",
     "output_type": "stream",
     "text": [
      "-------------------\n",
      "score 0.45454545454545453\n",
      "predict [0. 1. 1. 0. 1. 0. 1. 1. 0. 0. 1.]\n",
      "test [0. 1. 0. 1. 1. 0. 0. 0. 0. 1. 0.]\n",
      "AUC =  0.6428571428571429\n",
      "[[3 2]\n",
      " [4 2]]\n",
      "-------------------\n",
      "2 2 3 4\n",
      "sensitivity =  0.3333333333333333\n",
      "specificity =  0.6\n",
      "accuracy =  0.45454545454545453\n",
      "precision =  0.5\n",
      "fscore =  0.4\n",
      "-------------------\n",
      "-------------------\n",
      "score 0.5454545454545454\n",
      "predict [1. 0. 1. 0. 1. 0. 1. 1. 0. 1. 0.]\n",
      "test [1. 0. 0. 1. 1. 1. 1. 0. 0. 0. 0.]\n",
      "AUC =  0.6333333333333333\n",
      "[[3 2]\n",
      " [3 3]]\n",
      "-------------------\n",
      "3 2 3 3\n",
      "sensitivity =  0.5\n",
      "specificity =  0.6\n",
      "accuracy =  0.5454545454545454\n",
      "precision =  0.6\n",
      "fscore =  0.5454545454545454\n",
      "-------------------\n",
      "-------------------\n",
      "score 0.6363636363636364\n",
      "predict [0. 1. 1. 0. 0. 0. 1. 0. 0. 0. 0.]\n",
      "test [0. 1. 1. 1. 0. 0. 0. 0. 1. 1. 0.]\n",
      "AUC =  0.43333333333333335\n",
      "[[5 3]\n",
      " [1 2]]\n",
      "-------------------\n",
      "2 3 5 1\n",
      "sensitivity =  0.6666666666666666\n",
      "specificity =  0.625\n",
      "accuracy =  0.6363636363636364\n",
      "precision =  0.4\n",
      "fscore =  0.5\n",
      "-------------------\n",
      "-------------------\n",
      "score 0.45454545454545453\n",
      "predict [0. 0. 0. 0. 0. 0. 1. 0. 0. 1. 1.]\n",
      "test [0. 0. 0. 1. 1. 1. 0. 0. 0. 0. 0.]\n",
      "AUC =  0.5416666666666666\n",
      "[[5 3]\n",
      " [3 0]]\n",
      "-------------------\n",
      "0 3 5 3\n",
      "sensitivity =  0.0\n",
      "specificity =  0.625\n",
      "accuracy =  0.45454545454545453\n",
      "precision =  0.0\n",
      "fscore =  nan\n",
      "-------------------\n"
     ]
    },
    {
     "name": "stderr",
     "output_type": "stream",
     "text": [
      "ipykernel_launcher:28: RuntimeWarning: invalid value encountered in double_scalars\n"
     ]
    },
    {
     "name": "stdout",
     "output_type": "stream",
     "text": [
      "-------------------\n",
      "score 0.5454545454545454\n",
      "predict [0. 1. 0. 0. 0. 1. 0. 0. 0. 0. 1.]\n",
      "test [1. 1. 1. 0. 1. 1. 0. 1. 0. 0. 0.]\n",
      "AUC =  0.6666666666666666\n",
      "[[4 4]\n",
      " [1 2]]\n",
      "-------------------\n",
      "2 4 4 1\n",
      "sensitivity =  0.6666666666666666\n",
      "specificity =  0.5\n",
      "accuracy =  0.5454545454545454\n",
      "precision =  0.3333333333333333\n",
      "fscore =  0.4444444444444444\n",
      "-------------------\n"
     ]
    },
    {
     "data": {
      "image/png": "[encoded data removed]",
      "text/plain": [
       "<Figure size 432x288 with 1 Axes>"
      ]
     },
     "metadata": {
      "needs_background": "light"
     },
     "output_type": "display_data"
    }
   ],
   "source": [
    "model=LogisticRegression()\r\n",
    "fpr_mean = tpr_mean = 0\r\n",
    "for train_index, test_index in kf.split(res):\r\n",
    "    X_train, X_test = res[train_index], res[test_index]\r\n",
    "    y_train, y_test = y[train_index], y[test_index]\r\n",
    "    model.fit(X_train,y_train)\r\n",
    "    sc = model.score(X_test, y_test)\r\n",
    "    print(\"-------------------\")\r\n",
    "    print(\"score\",sc)\r\n",
    "    pr = model.predict(X_test)\r\n",
    "    print(\"predict\",pr)\r\n",
    "    print(\"test\", y_test)\r\n",
    "    y_pred_proba = model.predict_proba(X_test)[::,1]\r\n",
    "    auc = metrics.roc_auc_score(y_test, y_pred_proba)\r\n",
    "    fpr, tpr, _ = metrics.roc_curve(y_test,  y_pred_proba)\r\n",
    "    plt.plot(fpr,tpr,label=\"AUC = %0.2f \" % auc,  lw=1)\r\n",
    "    plt.legend(loc=4)\r\n",
    "    print(\"AUC = \",auc)\r\n",
    "\r\n",
    "    print(confusion_matrix(pr.tolist(), y_test.tolist()))\r\n",
    "    print(\"-------------------\")\r\n",
    "    tn, fp, fn, tp = confusion_matrix(pr.tolist(), y_test.tolist()).ravel()\r\n",
    "    print(tp,fp,tn,fn)\r\n",
    "    sensitivity =tp/(tp+fn)\r\n",
    "    specificity =tn/(tn+fp)\r\n",
    "    accuracy = (tp+tn)/(tp+fp+fn+tn)\r\n",
    "    precision = tp/(tp+fp)\r\n",
    "    fscore = 2*(sensitivity*precision)/(sensitivity+precision)\r\n",
    "    print(\"sensitivity = \",sensitivity)\r\n",
    "    print(\"specificity = \",specificity)\r\n",
    "    print(\"accuracy = \",accuracy)\r\n",
    "    print(\"precision = \",precision)\r\n",
    "    print(\"fscore = \",fscore)\r\n",
    "    print(\"-------------------\")\r\n",
    "    \r\n",
    "plt.plot(fpr_mean/5,tpr_mean/5,label=\"Mean AUC = %0.2f \" % auc)\r\n",
    "plt.ylabel('True Positive Rate')\r\n",
    "plt.xlabel('False Positive Rate')\r\n",
    "plt.plot([0, 1], [0, 1],  lw=1.25, linestyle=\"--\")\r\n",
    "plt.show()"
   ]
  }
 ],
 "metadata": {
  "interpreter": {
   "hash": "490a93732027bfa3348d3d672a8d840585c8dfe74407ba20850eabfc16721a89"
  },
  "kernelspec": {
   "display_name": "Python 3.7.0 32-bit ('venv': venv)",
   "name": "python3"
  },
  "language_info": {
   "codemirror_mode": {
    "name": "ipython",
    "version": 3
   },
   "file_extension": ".py",
   "mimetype": "text/x-python",
   "name": "python",
   "nbconvert_exporter": "python",
   "pygments_lexer": "ipython3",
   "version": "3.7.0"
  }
 },
 "nbformat": 4,
 "nbformat_minor": 4
}